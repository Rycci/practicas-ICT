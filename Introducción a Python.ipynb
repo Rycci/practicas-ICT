{
 "cells": [
  {
   "cell_type": "markdown",
   "metadata": {},
   "source": [
    "# Tipos de Celdas Modificado desde VIM (Hacked!!)"
   ]
  },
  {
   "cell_type": "markdown",
   "metadata": {},
   "source": [
    "Esta es una celda de texto (Markdown)"
   ]
  },
  {
   "cell_type": "code",
   "execution_count": 5,
   "metadata": {},
   "outputs": [{"text": ["Hola Mundo!\n"]}],
   "source": [
    "#Esta es una celda de codigo"
   ]
  },
  {
   "cell_type": "markdown",
   "metadata": {},
   "source": [
    "Python usa el signo : y sangría para indicar en donde inician y terminan los bloques de funciones, ciclos, condicionales, etc."
   ]
  },
  {
   "cell_type": "markdown",
   "metadata": {},
   "source": [
    "# La importancia de las sangrías en Python"
   ]
  },
  {
   "cell_type": "code",
   "execution_count": 4,
   "metadata": {},
   "outputs": [
    {
     "name": "stdout",
     "output_type": "stream",
     "text": [
      "Primer for, indice a=1\n",
      "Primer for, indice a=2\n",
      "Primer for, indice a=3\n",
      "Primer for, indice a=4\n"
     ]
    }
   ],
   "source": [
    "for a in [1,2,3,4]:\n",
    "    print ('Primer for, indice a=' + str(a))"
   ]
  },
  {
   "cell_type": "markdown",
   "metadata": {},
   "source": [
    "Por ejemplo, si tenemos 2 ciclos for anidados, la sangria nos indicará a cual for pertenece una instrucción"
   ]
  },
  {
   "cell_type": "code",
   "execution_count": 4,
   "metadata": {},
   "outputs": [
    {
     "name": "stdout",
     "output_type": "stream",
     "text": [
      "Primer for, indice i=1\n",
      "Segundo for, indice j=a\n",
      "Segundo for, indice j=b\n",
      "Segundo for, indice j=c\n",
      "Indices: 1c\n",
      "Primer for, indice i=2\n",
      "Segundo for, indice j=a\n",
      "Segundo for, indice j=b\n",
      "Segundo for, indice j=c\n",
      "Indices: 2c\n",
      "Primer for, indice i=3\n",
      "Segundo for, indice j=a\n",
      "Segundo for, indice j=b\n",
      "Segundo for, indice j=c\n",
      "Indices: 3c\n",
      "Primer for, indice i=4\n",
      "Segundo for, indice j=a\n",
      "Segundo for, indice j=b\n",
      "Segundo for, indice j=c\n",
      "Indices: 4c\n",
      "FUERA DEL FOR, indices finales: 4c\n"
     ]
    }
   ],
   "source": [
    "#Primer for, primer nivel de sangria\n",
    "for i in [1,2,3,4]:\n",
    "    print ('Primer for, indice i=' + str(i))\n",
    "    \n",
    "    #Segundo for, segundo nivel de sangria\n",
    "    for j in ['a','b','c']:\n",
    "        print ('Segundo for, indice j=' + str(j))\n",
    "    \n",
    "    #La siguiente instruccion pertenece al primer for\n",
    "    print ('Indices: ' + str(i)+str(j))\n",
    "\n",
    "#la siguiente instruccion esta fuera de ambos for\n",
    "print ('FUERA DEL FOR, indices finales: ' + str(i)+str(j))"
   ]
  },
  {
   "cell_type": "markdown",
   "metadata": {},
   "source": [
    "# Funciones"
   ]
  },
  {
   "cell_type": "markdown",
   "metadata": {},
   "source": [
    "Las funciones se definen con la palabra 'def'. El bloque de funcion debe respetar las sangrias"
   ]
  },
  {
   "cell_type": "code",
   "execution_count": 27,
   "metadata": {},
   "outputs": [],
   "source": [
    "def area_triangulo(base, altura):\n",
    "    area =  (base * altura) / 2\n",
    "    return area"
   ]
  },
  {
   "cell_type": "markdown",
   "metadata": {},
   "source": [
    "Llamamos a la función anterior"
   ]
  },
  {
   "cell_type": "code",
   "execution_count": 12,
   "metadata": {},
   "outputs": [
    {
     "data": {
      "text/plain": [
       "7.5"
      ]
     },
     "execution_count": 12,
     "metadata": {},
     "output_type": "execute_result"
    }
   ],
   "source": [
    "area_triangulo (3,5)"
   ]
  },
  {
   "cell_type": "markdown",
   "metadata": {},
   "source": [
    "# Estructuras de datos"
   ]
  },
  {
   "cell_type": "markdown",
   "metadata": {},
   "source": [
    "Sirven para alamacenar grupos de datos, como letras y numeros."
   ]
  },
  {
   "cell_type": "markdown",
   "metadata": {},
   "source": [
    "## Listas"
   ]
  },
  {
   "cell_type": "markdown",
   "metadata": {},
   "source": [
    "Son parecidos a los arreglos de C. Pueden alamacenar distintos tipos de datos que se pueden acceder y modificar mediante su indice."
   ]
  },
  {
   "cell_type": "code",
   "execution_count": 23,
   "metadata": {},
   "outputs": [
    {
     "name": "stdout",
     "output_type": "stream",
     "text": [
      "[]\n"
     ]
    }
   ],
   "source": [
    "# crea una lista vacia\n",
    "lista_vacia =  list()\n",
    "print (lista_vacia)"
   ]
  },
  {
   "cell_type": "markdown",
   "metadata": {},
   "source": [
    "Se puede crear una lista con elementos iniciales, las listas pueden almacenar elementos de distintos tipos"
   ]
  },
  {
   "cell_type": "code",
   "execution_count": 37,
   "metadata": {},
   "outputs": [
    {
     "name": "stdout",
     "output_type": "stream",
     "text": [
      "[34, 'c', 'palabra', 6.5]\n"
     ]
    }
   ],
   "source": [
    "mi_lista = [34, 'c', \"palabra\", 6.5]\n",
    "print (mi_lista)"
   ]
  },
  {
   "cell_type": "markdown",
   "metadata": {},
   "source": [
    "Todas las estructuras de datos en Python son indexadas base-0, osea el primer indice es el '0'"
   ]
  },
  {
   "cell_type": "code",
   "execution_count": 26,
   "metadata": {},
   "outputs": [
    {
     "name": "stdout",
     "output_type": "stream",
     "text": [
      "34\n",
      "6.5\n"
     ]
    }
   ],
   "source": [
    "print (mi_lista[0])\n",
    "print (mi_lista[3])"
   ]
  },
  {
   "cell_type": "markdown",
   "metadata": {},
   "source": [
    "### Algunas funciones de las listas"
   ]
  },
  {
   "cell_type": "code",
   "execution_count": null,
   "metadata": {},
   "outputs": [],
   "source": [
    "Obtener el numero de elementos en la lista"
   ]
  },
  {
   "cell_type": "code",
   "execution_count": 31,
   "metadata": {},
   "outputs": [
    {
     "name": "stdout",
     "output_type": "stream",
     "text": [
      "3\n",
      "[34, 'palabra', 6.5, 'x']\n"
     ]
    }
   ],
   "source": [
    "# longitud\n",
    "print (len(mi_lista))"
   ]
  },
  {
   "cell_type": "markdown",
   "metadata": {},
   "source": [
    "Remover elementos de una lista"
   ]
  },
  {
   "cell_type": "code",
   "execution_count": 38,
   "metadata": {},
   "outputs": [
    {
     "name": "stdout",
     "output_type": "stream",
     "text": [
      "[34, 'c', 'palabra', 6.5]\n",
      "[34, 'palabra', 6.5]\n"
     ]
    }
   ],
   "source": [
    "print (mi_lista)\n",
    "mi_lista.remove('c')\n",
    "print (mi_lista)"
   ]
  },
  {
   "cell_type": "raw",
   "metadata": {},
   "source": [
    "Agregar elementos a una lista"
   ]
  },
  {
   "cell_type": "code",
   "execution_count": 35,
   "metadata": {},
   "outputs": [
    {
     "name": "stdout",
     "output_type": "stream",
     "text": [
      "[]\n",
      "['x']\n"
     ]
    }
   ],
   "source": [
    "print (lista_vacia)\n",
    "lista_vacia.append('x')\n",
    "print (lista_vacia)"
   ]
  },
  {
   "cell_type": "markdown",
   "metadata": {},
   "source": [
    "Encuentra el indice de un elemento en la lista"
   ]
  },
  {
   "cell_type": "code",
   "execution_count": 40,
   "metadata": {},
   "outputs": [
    {
     "data": {
      "text/plain": [
       "1"
      ]
     },
     "execution_count": 40,
     "metadata": {},
     "output_type": "execute_result"
    }
   ],
   "source": [
    "#devuelve el indice del elemento palabra\n",
    "mi_lista.index('palabra')"
   ]
  },
  {
   "cell_type": "markdown",
   "metadata": {},
   "source": [
    "La funcion index, solo se debe usar cuando sabemos que el elemento que se busca esta en la lista"
   ]
  },
  {
   "cell_type": "code",
   "execution_count": 42,
   "metadata": {},
   "outputs": [
    {
     "ename": "ValueError",
     "evalue": "'h' is not in list",
     "output_type": "error",
     "traceback": [
      "\u001b[1;31m---------------------------------------------------------------------------\u001b[0m",
      "\u001b[1;31mValueError\u001b[0m                                Traceback (most recent call last)",
      "\u001b[1;32m<ipython-input-42-de2e7325564d>\u001b[0m in \u001b[0;36m<module>\u001b[1;34m\u001b[0m\n\u001b[1;32m----> 1\u001b[1;33m \u001b[0mmi_lista\u001b[0m\u001b[1;33m.\u001b[0m\u001b[0mindex\u001b[0m\u001b[1;33m(\u001b[0m\u001b[1;34m'h'\u001b[0m\u001b[1;33m)\u001b[0m\u001b[1;33m\u001b[0m\u001b[1;33m\u001b[0m\u001b[0m\n\u001b[0m",
      "\u001b[1;31mValueError\u001b[0m: 'h' is not in list"
     ]
    }
   ],
   "source": [
    "mi_lista.index('h')"
   ]
  },
  {
   "cell_type": "markdown",
   "metadata": {},
   "source": [
    "## Conjuntos"
   ]
  },
  {
   "cell_type": "markdown",
   "metadata": {},
   "source": [
    "A diferencia de las listas, en los conjuntos los elementos no estan indexados"
   ]
  },
  {
   "cell_type": "code",
   "execution_count": 47,
   "metadata": {},
   "outputs": [
    {
     "name": "stdout",
     "output_type": "stream",
     "text": [
      "set()\n",
      "{3, 'a', 6}\n",
      "[6, 'a', 3]\n"
     ]
    }
   ],
   "source": [
    "# Crea un conjuto vacio\n",
    "conjunto_vacio = set()\n",
    "\n",
    "# Crea un conjunto con elementos iniciales\n",
    "conjunto_A = {6,'a',3}\n",
    "\n",
    "# Crea una lista con elementos inciales\n",
    "lista_A = [6,'a',3]\n",
    "\n",
    "# Imprime las estructuras creadas\n",
    "print (conjunto_vacio)\n",
    "print (conjunto_A)\n",
    "print (lista_A)"
   ]
  },
  {
   "cell_type": "markdown",
   "metadata": {},
   "source": [
    " y por lo tanto no se pueden tener elementos repetidos"
   ]
  },
  {
   "cell_type": "code",
   "execution_count": 48,
   "metadata": {},
   "outputs": [
    {
     "name": "stdout",
     "output_type": "stream",
     "text": [
      "{3, 'a', 6}\n",
      "[6, 'a', 3, 3]\n"
     ]
    }
   ],
   "source": [
    "# agregar elementos en listas y conjuntos\n",
    "conjunto_A.add(3)\n",
    "lista_A.append(3)\n",
    "print (conjunto_A)\n",
    "print (lista_A)"
   ]
  },
  {
   "cell_type": "markdown",
   "metadata": {},
   "source": [
    "## Diccionarios"
   ]
  },
  {
   "cell_type": "markdown",
   "metadata": {},
   "source": [
    "Los elementos de un diccionario constan de 2 partes, llave y valor"
   ]
  },
  {
   "cell_type": "code",
   "execution_count": 62,
   "metadata": {},
   "outputs": [
    {
     "name": "stdout",
     "output_type": "stream",
     "text": [
      "{}\n",
      "{'mate': [8, 6], 'progra': [10, 8, 7], 'historia': [8, 9, 9]}\n"
     ]
    }
   ],
   "source": [
    "# Crea un diccionario vacio\n",
    "calificaciones = dict()\n",
    "print (calificaciones)\n",
    "# Crea un diccionarios con elementos iniciales\n",
    "calificaciones = {\"mate\" : [8,6], \"progra\" : [10,8,7], \"historia\": [8,9,9]}\n",
    "print (calificaciones)"
   ]
  },
  {
   "cell_type": "markdown",
   "metadata": {},
   "source": [
    "Por ejemplo, en el diccionario 'calificaciones', las llaves representan nombres de materias y los valores calificaciones obtenidas en cada materia"
   ]
  },
  {
   "cell_type": "code",
   "execution_count": 60,
   "metadata": {},
   "outputs": [
    {
     "name": "stdout",
     "output_type": "stream",
     "text": [
      "dict_keys(['mate', 'progra', 'historia'])\n",
      "dict_values([[8, 6, '9'], [10, 8, 7], [8, 9, 9]])\n"
     ]
    }
   ],
   "source": [
    "# Accede a las llaves del diccionario\n",
    "print (calificaciones.keys())\n",
    "# Accede a los valores del diccionario\n",
    "print (calificaciones.values())"
   ]
  },
  {
   "cell_type": "markdown",
   "metadata": {},
   "source": [
    "Las llaves nos permiten acceder a los valores"
   ]
  },
  {
   "cell_type": "code",
   "execution_count": 58,
   "metadata": {},
   "outputs": [
    {
     "data": {
      "text/plain": [
       "[8, 6]"
      ]
     },
     "execution_count": 58,
     "metadata": {},
     "output_type": "execute_result"
    }
   ],
   "source": [
    "# Acceder a las calificaciones de mate\n",
    "calificaciones[\"mate\"]"
   ]
  },
  {
   "cell_type": "code",
   "execution_count": 63,
   "metadata": {},
   "outputs": [
    {
     "data": {
      "text/plain": [
       "[8, 6, 9]"
      ]
     },
     "execution_count": 63,
     "metadata": {},
     "output_type": "execute_result"
    }
   ],
   "source": [
    "# Agregar una calificacion mas a mate\n",
    "calificaciones[\"mate\"].append(9)\n",
    "calificaciones[\"mate\"]"
   ]
  },
  {
   "cell_type": "markdown",
   "metadata": {},
   "source": [
    "Los diccionarios serán utilizados a lo largo del curso para representar redes"
   ]
  },
  {
   "cell_type": "markdown",
   "metadata": {},
   "source": [
    "# Modulos"
   ]
  },
  {
   "cell_type": "markdown",
   "metadata": {},
   "source": [
    "Ciertas funcionalidades de Python no estan incluidas por defaul, para utilizar dichas funcionalidades se deben importar los modulos que las contienen.\n",
    "\n",
    "Existen modulos que son parte del 'core' de Python y otros desarrollados por terceros que deben instalarse antes de ser usados."
   ]
  },
  {
   "cell_type": "markdown",
   "metadata": {},
   "source": [
    "## Graficas con el modulo matplotlib"
   ]
  },
  {
   "cell_type": "markdown",
   "metadata": {},
   "source": [
    "Para graficar usaremos la funcion pyplot del modulo matplotlib"
   ]
  },
  {
   "cell_type": "code",
   "execution_count": 64,
   "metadata": {},
   "outputs": [],
   "source": [
    "# Importa la funcion pyplot del modulo matplotlib. La funcion sera llamada con el alias plt\n",
    "import matplotlib.pyplot as plt\n",
    "# Otra manera de importar pyplot\n",
    "#from matplotlibt import pyplot as plt"
   ]
  },
  {
   "cell_type": "markdown",
   "metadata": {},
   "source": [
    "Graficaremos el promedio de las calificaciones del diccionario anterior. En el eje x tendremos el nombre de las materias. "
   ]
  },
  {
   "cell_type": "code",
   "execution_count": 69,
   "metadata": {},
   "outputs": [
    {
     "name": "stdout",
     "output_type": "stream",
     "text": [
      "['mate', 'progra', 'historia']\n"
     ]
    }
   ],
   "source": [
    "# el eje x esta dado por una lista que se incializa con los valores de las materias\n",
    "eje_x = list(calificaciones.keys())\n",
    "print (eje_x)"
   ]
  },
  {
   "cell_type": "markdown",
   "metadata": {},
   "source": [
    "En el eje y, tendremos el promedio de cada materia"
   ]
  },
  {
   "cell_type": "code",
   "execution_count": 73,
   "metadata": {},
   "outputs": [
    {
     "name": "stdout",
     "output_type": "stream",
     "text": [
      "[7.666666666666667, 8.333333333333334, 8.666666666666666]\n"
     ]
    }
   ],
   "source": [
    "# inicialmente el eje_y esta dado por una lista vacia\n",
    "eje_y = list()\n",
    "\n",
    "# iteramos la lista de materias (es decir el eje-x)\n",
    "for materia in eje_x:\n",
    "    # obtemos la lista de calificaciones\n",
    "    calif = calificaciones[materia]\n",
    "    # usando las funciones sum y len calculamos el promedio\n",
    "    promedio = sum(calif) / len(calif)\n",
    "    # agregamos el promedio al eje_y\n",
    "    eje_y.append(promedio)\n",
    "print (eje_y)"
   ]
  },
  {
   "cell_type": "markdown",
   "metadata": {},
   "source": [
    " Una vez que tenemos los valores de los ejes x, y en listas, podemos crear la grafica"
   ]
  },
  {
   "cell_type": "code",
   "execution_count": 84,
   "metadata": {},
   "outputs": [
    {
     "data": {
      "image/png": "[encoded data removed]",
      "text/plain": [
       "<Figure size 432x288 with 1 Axes>"
      ]
     },
     "metadata": {
      "needs_background": "light"
     },
     "output_type": "display_data"
    }
   ],
   "source": [
    "plt.plot(eje_x, eje_y, color='blue', marker='o', linestyle='solid')"
   ]
  },
  {
   "cell_type": "markdown",
   "metadata": {},
   "source": [
    "Podemos agregar leyendas a los ejes"
   ]
  },
  {
   "cell_type": "code",
   "execution_count": 88,
   "metadata": {},
   "outputs": [
    {
     "data": {
      "image/png": "[encoded data removed]",
      "text/plain": [
       "<Figure size 432x288 with 1 Axes>"
      ]
     },
     "metadata": {
      "needs_background": "light"
     },
     "output_type": "display_data"
    }
   ],
   "source": [
    "plt.plot(eje_x, eje_y, color='blue', marker='o', linestyle='solid')\n",
    "plt.xlabel(\"UEA\")\n",
    "plt.ylabel(\"Promedio\")\n",
    "plt.show()"
   ]
  },
  {
   "cell_type": "markdown",
   "metadata": {},
   "source": [
    "y un titulo a la grafica"
   ]
  },
  {
   "cell_type": "code",
   "execution_count": 89,
   "metadata": {},
   "outputs": [
    {
     "data": {
      "image/png": "[encoded data removed]",
      "text/plain": [
       "<Figure size 432x288 with 1 Axes>"
      ]
     },
     "metadata": {
      "needs_background": "light"
     },
     "output_type": "display_data"
    }
   ],
   "source": [
    "plt.plot(eje_x, eje_y, color='blue', marker='o', linestyle='solid')\n",
    "plt.xlabel(\"UEA\")\n",
    "plt.ylabel(\"Promedio\")\n",
    "plt.title(\"Mis calificaciones\")\n",
    "plt.show()"
   ]
  }
 ],
 "metadata": {
  "kernelspec": {
   "display_name": "Python 3",
   "language": "python",
   "name": "python3"
  },
  "language_info": {
   "codemirror_mode": {
    "name": "ipython",
    "version": 3
   },
   "file_extension": ".py",
   "mimetype": "text/x-python",
   "name": "python",
   "nbconvert_exporter": "python",
   "pygments_lexer": "ipython3",
   "version": "3.8.5"
  }
 },
 "nbformat": 4,
 "nbformat_minor": 4
}
